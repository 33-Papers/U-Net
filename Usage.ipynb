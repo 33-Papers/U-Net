{
  "cells": [
    {
      "cell_type": "code",
      "execution_count": null,
      "metadata": {
        "id": "LJ_mOMFNTE8G"
      },
      "outputs": [],
      "source": [
        "!pip install torchmetrics"
      ]
    },
    {
      "cell_type": "code",
      "execution_count": null,
      "metadata": {
        "id": "JUw4U901Yjqc"
      },
      "outputs": [],
      "source": [
        "!git clone https://github.com/33-Papers/U-Net"
      ]
    },
    {
      "cell_type": "code",
      "execution_count": 3,
      "metadata": {
        "id": "KINB3kPeFb2X"
      },
      "outputs": [],
      "source": [
        "import os"
      ]
    },
    {
      "cell_type": "code",
      "execution_count": 4,
      "metadata": {
        "id": "sdqdvRDZFdib"
      },
      "outputs": [],
      "source": [
        "os.chdir(\"/content/U-Net\")"
      ]
    },
    {
      "cell_type": "markdown",
      "metadata": {
        "id": "9B1y7cPk_GbK"
      },
      "source": [
        "Customize the configurations from config.py and to change the name of saved model, go to utils.py file and change the filename argument of save_checkpoint function."
      ]
    },
    {
      "cell_type": "code",
      "execution_count": null,
      "metadata": {
        "id": "YsouQsqzYw5W"
      },
      "outputs": [],
      "source": [
        "!python /content/U-Net/train.py"
      ]
    },
    {
      "cell_type": "code",
      "execution_count": null,
      "metadata": {},
      "outputs": [],
      "source": [
        "!python /content/U-Net/test.py"
      ]
    },
    {
      "cell_type": "markdown",
      "metadata": {},
      "source": [
        "The combined image has been saved as 'prediction.jpg'. Please download and open it in an image viewer to view the results.\n",
        "\n",
        "Also, you can customize input image by changing the image_path variable in your test.py"
      ]
    }
  ],
  "metadata": {
    "accelerator": "GPU",
    "colab": {
      "gpuType": "T4",
      "provenance": []
    },
    "kernelspec": {
      "display_name": "Python 3",
      "name": "python3"
    },
    "language_info": {
      "name": "python"
    }
  },
  "nbformat": 4,
  "nbformat_minor": 0
}
