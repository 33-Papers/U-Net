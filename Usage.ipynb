{
  "nbformat": 4,
  "nbformat_minor": 0,
  "metadata": {
    "colab": {
      "provenance": [],
      "gpuType": "T4"
    },
    "kernelspec": {
      "name": "python3",
      "display_name": "Python 3"
    },
    "language_info": {
      "name": "python"
    },
    "accelerator": "GPU"
  },
  "cells": [
    {
      "cell_type": "code",
      "source": [
        "!pip install torchmetrics"
      ],
      "metadata": {
        "id": "LJ_mOMFNTE8G"
      },
      "execution_count": null,
      "outputs": []
    },
    {
      "cell_type": "code",
      "execution_count": null,
      "metadata": {
        "id": "JUw4U901Yjqc"
      },
      "outputs": [],
      "source": [
        "!git clone https://github.com/33-Papers/U-Net"
      ]
    },
    {
      "cell_type": "code",
      "source": [
        "import os"
      ],
      "metadata": {
        "id": "KINB3kPeFb2X"
      },
      "execution_count": 3,
      "outputs": []
    },
    {
      "cell_type": "code",
      "source": [
        "os.chdir(\"/content/U-Net\")"
      ],
      "metadata": {
        "id": "sdqdvRDZFdib"
      },
      "execution_count": 4,
      "outputs": []
    },
    {
      "cell_type": "markdown",
      "source": [
        "Customize the configurations from config.py and to change the name of saved model, go to utils.py file and change the filename argument of save_checkpoint function."
      ],
      "metadata": {
        "id": "9B1y7cPk_GbK"
      }
    },
    {
      "cell_type": "code",
      "source": [
        "!python /content/U-Net/train.py"
      ],
      "metadata": {
        "id": "YsouQsqzYw5W"
      },
      "execution_count": null,
      "outputs": []
    }
  ]
}