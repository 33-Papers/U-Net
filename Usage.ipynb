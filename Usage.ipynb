{
  "cells": [
    {
      "cell_type": "code",
      "execution_count": null,
      "metadata": {
        "id": "LJ_mOMFNTE8G"
      },
      "outputs": [],
      "source": [
        "!pip install torchmetrics"
      ]
    },
    {
      "cell_type": "code",
      "execution_count": null,
      "metadata": {},
      "outputs": [],
      "source": [
        "!pip install monai"
      ]
    },
    {
      "cell_type": "code",
      "execution_count": null,
      "metadata": {
        "id": "JUw4U901Yjqc"
      },
      "outputs": [],
      "source": [
        "!git clone https://github.com/33-Papers/U-Net"
      ]
    },
    {
      "cell_type": "code",
      "execution_count": 3,
      "metadata": {
        "id": "KINB3kPeFb2X"
      },
      "outputs": [],
      "source": [
        "import os"
      ]
    },
    {
      "cell_type": "code",
      "execution_count": 4,
      "metadata": {
        "id": "sdqdvRDZFdib"
      },
      "outputs": [],
      "source": [
        "os.chdir(\"/content/U-Net\")"
      ]
    },
    {
      "cell_type": "markdown",
      "metadata": {
        "id": "9B1y7cPk_GbK"
      },
      "source": [
        "Customize the configurations from config.py and to change the name of saved model, go to utils.py file and change the filename argument of save_checkpoint function."
      ]
    },
    {
      "cell_type": "code",
      "execution_count": null,
      "metadata": {
        "id": "YsouQsqzYw5W"
      },
      "outputs": [],
      "source": [
        "!python /content/U-Net/train.py"
      ]
    },
    {
      "cell_type": "code",
      "execution_count": null,
      "metadata": {},
      "outputs": [],
      "source": [
        "!python /content/U-Net/test.py --image_path ./data/test/image/0.png --mask_path ./data/test/mask/0.png"
      ]
    },
    {
      "cell_type": "markdown",
      "metadata": {},
      "source": [
        "**Note:** After running the script, the predicted image is saved as `prediction.jpg` in the current working directory. You can follow these steps to view and download it:\n",
        "\n",
        "- Locate the `prediction.jpg` file in the same directory where you ran the script and download it to view the predicted image.\n",
        "\n",
        "Keep in mind that the `prediction.jpg` file will contain the visual representation of the model's output based on the provided test image and mask. This image can provide insights into the model's performance on the given input."
      ]
    },
    {
      "cell_type": "markdown",
      "metadata": {},
      "source": [
        "## Command-line Arguments\n",
        "\n",
        "The script `test.py` accepts the following command-line arguments:\n",
        "\n",
        "- `--image_path`: (Optional) The path to the test image. If not provided, it defaults to `./data/test/image/1.png`.\n",
        "\n",
        "- `--mask_path`: (Optional) The path to the mask image. If not provided, it defaults to `./data/test/mask/1.png`.\n",
        "\n",
        "You can run the script without specifying these arguments to use the default image and mask paths. If you wish to use custom images, you can specify the `--image_path` and `--mask_path` options followed by the paths to your desired image and mask files when executing the script."
      ]
    }
  ],
  "metadata": {
    "accelerator": "GPU",
    "colab": {
      "gpuType": "T4",
      "provenance": []
    },
    "kernelspec": {
      "display_name": "Python 3",
      "name": "python3"
    },
    "language_info": {
      "name": "python"
    }
  },
  "nbformat": 4,
  "nbformat_minor": 0
}
